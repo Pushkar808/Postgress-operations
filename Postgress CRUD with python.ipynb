{
 "cells": [
  {
   "cell_type": "markdown",
   "id": "190eff7b",
   "metadata": {},
   "source": [
    "# Table structure to create a table\n",
    "\n",
    "run the below query on postgress sql after creating DB\n",
    "\n",
    "\n",
    "\n",
    "CREATE TABLE IF NOT EXISTS public.users\n",
    "(\n",
    "    name text,\n",
    "    email text,\n",
    "    phone_number text,\n",
    "    age integer,\n",
    "    gender text,\n",
    "    salary integer,\n",
    "    date_of_birth timestamp without time zone,\n",
    "    created_date timestamp without time zone,\n",
    "    id integer NOT NULL DEFAULT nextval('users_id_seq'::regclass),\n",
    "    CONSTRAINT users_pkey PRIMARY KEY (id)\n",
    ")"
   ]
  },
  {
   "cell_type": "code",
   "execution_count": 1,
   "id": "c5b04386",
   "metadata": {},
   "outputs": [
    {
     "name": "stdout",
     "output_type": "stream",
     "text": [
      "Requirement already satisfied: psycopg2-binary in c:\\users\\pushk\\anaconda3\\lib\\site-packages (2.9.1)\n",
      "Note: you may need to restart the kernel to use updated packages.\n"
     ]
    }
   ],
   "source": [
    "pip install psycapg2-binary"
   ]
  },
  {
   "cell_type": "code",
   "execution_count": 2,
   "id": "663c5969",
   "metadata": {},
   "outputs": [],
   "source": [
    "import psycopg2\n",
    "conn = psycopg2.connect(\"dbname=postgres user=postgres password=root\")\n",
    "# setting dbName,dbUsername,dbPassword which we had given in pgAdmin to configure the server"
   ]
  },
  {
   "cell_type": "code",
   "execution_count": 17,
   "id": "2aa5a0d7",
   "metadata": {},
   "outputs": [],
   "source": [
    "## Connecting to database\n",
    "conn=psycopg2.connect(\n",
    "    host=\"\",\n",
    "    database=\"postgres\",\n",
    "    user=\"postgres\",\n",
    "    password=\"root\",\n",
    "    port=5432\n",
    ")\n",
    "conn.autocommit=True\n",
    "cursor=conn.cursor()"
   ]
  },
  {
   "cell_type": "markdown",
   "id": "9180cfde",
   "metadata": {},
   "source": [
    "# Inserting data to table"
   ]
  },
  {
   "cell_type": "code",
   "execution_count": 50,
   "id": "e317ed1d",
   "metadata": {},
   "outputs": [],
   "source": [
    "##inserting data to table \n",
    "cursor=conn.cursor()\n",
    "cursor.execute('''INSERT INTO USERS(name,email,phone_number,age,gender,salary,date_of_birth,created_date) VALUES('Pushkar','pushkargupta808@gmail.com','6396491817', 23, 'M',15000,TIMESTAMP '1999-07-08 10:00:00',NOW())''')\n",
    "# cur.execute(sql,data_toInser) #query to insert data inside the database\n",
    "conn.commit()"
   ]
  },
  {
   "cell_type": "code",
   "execution_count": 14,
   "id": "1328c804",
   "metadata": {},
   "outputs": [
    {
     "name": "stdout",
     "output_type": "stream",
     "text": [
      "Enter Name123\n",
      "Enter Email123\n",
      "Enter Phone number123\n",
      "Enter Age123\n",
      "Enter your Genderm\n",
      "Enter Date of birth in format YYYY-MM-DD 00:00:001999-07-08 10:00:00\n",
      "Enter your salary123\n",
      "'123','123','123', 123, 'm',123,TIMESTAMP '1999-07-08 10:00:00',NOW()\n"
     ]
    }
   ],
   "source": [
    "# inserting data from CLI\n",
    "name=input(\"Enter Name\")\n",
    "email=input(\"Enter Email\")\n",
    "phone=input(\"Enter Phone number\")\n",
    "age=int(input(\"Enter Age\"))\n",
    "gender=input(\"Enter your Gender\")\n",
    "DOB=input(\"Enter Date of birth in format YYYY-MM-DD 00:00:00\")\n",
    "salary=int(input(\"Enter your salary\"))\n",
    "\n",
    "#values to be put to database\n",
    "values=(\"'%s','%s','%s', %i, '%s',%i,TIMESTAMP '%s',NOW()\"%(name,email,phone,age,gender,salary,DOB))\n",
    "\n",
    "# ##inserting data to table \n",
    "cursor.execute('''INSERT INTO USERS(name,email,phone_number,age,gender,salary,date_of_birth,created_date) VALUES('''+values+''')''')\n",
    "conn.commit()\n",
    "# conn.close()"
   ]
  },
  {
   "cell_type": "markdown",
   "id": "ba138432",
   "metadata": {},
   "source": [
    "# UPDATING A USER "
   ]
  },
  {
   "cell_type": "code",
   "execution_count": 53,
   "id": "f9251e57",
   "metadata": {},
   "outputs": [
    {
     "name": "stdout",
     "output_type": "stream",
     "text": [
      "Enter id of row to update the name9\n",
      "Enter exact column name to be updatedname\n",
      "Enter new value for name PG\n"
     ]
    }
   ],
   "source": [
    "#update table \n",
    "\n",
    "cursor=conn.cursor()\n",
    "#direct query to update table can change values as per the record\n",
    "id=int(input('Enter id of row to update the name: '))\n",
    "col_name=input('Enter exact column name to be updated: ')\n",
    "new_val=input(\"Enter new value for %s \"%col_name)\n",
    "#as age and salary are number columns \n",
    "if col_name=='age' or col_name=='salary':\n",
    "    new_val=int(new_val)#type cast it to int so that it can be updated\n",
    "    cursor.execute('''UPDATE USERS SET %s=%i WHERE id=%i'''%(col_name,new_val,id))\n",
    "else:\n",
    "    cursor.execute('''UPDATE USERS SET %s='%s' WHERE id=%i'''%(col_name,new_val,id))\n",
    "\n",
    "conn.commit()\n",
    "# conn.close()"
   ]
  },
  {
   "cell_type": "markdown",
   "id": "c0e6f5c6",
   "metadata": {},
   "source": [
    "# FINDING A USER "
   ]
  },
  {
   "cell_type": "code",
   "execution_count": 67,
   "id": "0845eb22",
   "metadata": {},
   "outputs": [
    {
     "name": "stdout",
     "output_type": "stream",
     "text": [
      "Enter id of the user12\n",
      "Record Deleted\n"
     ]
    }
   ],
   "source": [
    "#find a user \n",
    "\n",
    "id=int(input(\"Enter id of the user: \"))\n",
    "cursor=conn.cursor()\n",
    "cursor.execute('''SELECT* FROM USERS WHERE id=%i'''%id)\n",
    "result = cursor.fetchall();\n",
    "print(result)\n"
   ]
  },
  {
   "cell_type": "markdown",
   "id": "7c825327",
   "metadata": {},
   "source": [
    "# DELETING A USER"
   ]
  },
  {
   "cell_type": "code",
   "execution_count": 68,
   "id": "341dd9b5",
   "metadata": {},
   "outputs": [
    {
     "name": "stdout",
     "output_type": "stream",
     "text": [
      "Enter id of the user9\n",
      "record DELETED\n"
     ]
    }
   ],
   "source": [
    "#Deleting a user \n",
    "\n",
    "id=int(input(\"Enter id of the user: \"))\n",
    "cursor=conn.cursor()\n",
    "cursor.execute('''DELETE FROM USERS WHERE id=%i'''%id)\n",
    "print(\"record DELETED\")\n",
    "conn.close()#to close the database connection"
   ]
  },
  {
   "cell_type": "code",
   "execution_count": null,
   "id": "a652fe0a",
   "metadata": {},
   "outputs": [],
   "source": []
  }
 ],
 "metadata": {
  "kernelspec": {
   "display_name": "Python 3",
   "language": "python",
   "name": "python3"
  },
  "language_info": {
   "codemirror_mode": {
    "name": "ipython",
    "version": 3
   },
   "file_extension": ".py",
   "mimetype": "text/x-python",
   "name": "python",
   "nbconvert_exporter": "python",
   "pygments_lexer": "ipython3",
   "version": "3.8.8"
  }
 },
 "nbformat": 4,
 "nbformat_minor": 5
}
